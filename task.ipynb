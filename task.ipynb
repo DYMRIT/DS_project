{
 "cells": [
  {
   "cell_type": "code",
   "execution_count": 20,
   "id": "a9c21eda",
   "metadata": {},
   "outputs": [],
   "source": [
    "def number_groups(n_customers):\n",
    "    '''\n",
    "    Создаётся словарь, куда последовательно добавляется пара {сумма цифр: кол-во  участников этой группы}.\n",
    "    Сам алгоритм заключается в том, что происходит последовательный перебор чисел от 1 до n_customers,\n",
    "    подсчёт суммы цифр и добавление участника в группа (если группы не существует - она создаётся)\n",
    "    '''\n",
    "    \n",
    "    n_groups = dict()\n",
    "    for n_customer in range(1,int(n_customers)+1):\n",
    "        sum = 0\n",
    "        t_num = n_customer\n",
    "        while t_num != 0:\n",
    "            sum += t_num % 10\n",
    "            t_num = t_num // 10\n",
    "        if sum in n_groups:\n",
    "            n_groups[sum] += 1\n",
    "        else:\n",
    "            n_groups[sum] = 1\n",
    "    return n_groups"
   ]
  },
  {
   "cell_type": "code",
   "execution_count": 21,
   "id": "bb61f728",
   "metadata": {},
   "outputs": [],
   "source": [
    "def number_groups_with_id(n_customers, n_first_id):\n",
    "    '''\n",
    "    Создаётся словарь, куда последовательно добавляется пара {сумма цифр: кол-во участников этой группы}.\n",
    "    Сам алгоритм заключается в том, что происходит последовательный перебор чисел от n_first_id до n_first_id+n_customers,\n",
    "    подсчёт суммы цифр и добавление участника в группа (если группы не существует - она создаётся)\n",
    "    '''\n",
    "    \n",
    "    n_groups = dict()\n",
    "    for n_customer in range(n_first_id,int(n_customers)+int(n_first_id)+1):\n",
    "        sum = 0\n",
    "        t_num = n_customer\n",
    "        while t_num != 0:\n",
    "            sum += t_num % 10\n",
    "            t_num = t_num // 10\n",
    "        if sum in n_groups:\n",
    "            n_groups[sum] += 1\n",
    "        else:\n",
    "            n_groups[sum] = 1\n",
    "    return n_groups"
   ]
  }
 ],
 "metadata": {
  "kernelspec": {
   "display_name": "Python 3 (ipykernel)",
   "language": "python",
   "name": "python3"
  },
  "language_info": {
   "codemirror_mode": {
    "name": "ipython",
    "version": 3
   },
   "file_extension": ".py",
   "mimetype": "text/x-python",
   "name": "python",
   "nbconvert_exporter": "python",
   "pygments_lexer": "ipython3",
   "version": "3.10.5"
  }
 },
 "nbformat": 4,
 "nbformat_minor": 5
}
